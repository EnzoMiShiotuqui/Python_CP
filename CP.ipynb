{
 "cells": [
  {
   "cell_type": "code",
   "execution_count": 3,
   "metadata": {},
   "outputs": [],
   "source": [
    "# Importar bibliotecas necessárias\n",
    "import numpy as np  # Biblioteca para computação numérica e manipulação de arrays\n",
    "import pandas as pd  # Biblioteca para manipulação e análise de dados estruturados\n",
    "import matplotlib.pyplot as plt  # Biblioteca para criação de gráficos e visualizações\n",
    "import yfinance as yf  # Biblioteca para acessar dados financeiros da Yahoo Finance"
   ]
  },
  {
   "cell_type": "code",
   "execution_count": 6,
   "metadata": {},
   "outputs": [
    {
     "name": "stderr",
     "output_type": "stream",
     "text": [
      "Failed to get ticker 'AAPL' reason: HTTPSConnectionPool(host='fc.yahoo.com', port=443): Max retries exceeded with url: / (Caused by SSLError(SSLCertVerificationError(1, '[SSL: CERTIFICATE_VERIFY_FAILED] certificate verify failed: unable to get local issuer certificate (_ssl.c:1000)')))\n",
      "[*********************100%***********************]  1 of 1 completed\n",
      "\n",
      "1 Failed download:\n",
      "['AAPL']: YFTzMissingError('$%ticker%: possibly delisted; no timezone found')\n"
     ]
    },
    {
     "name": "stdout",
     "output_type": "stream",
     "text": [
      "Empty DataFrame\n",
      "Columns: [Open, High, Low, Close, Adj Close, Volume]\n",
      "Index: []\n"
     ]
    }
   ],
   "source": [
    "# Baixar os dados da Apple (AAPL) dos últimos 2 anos\n",
    "start_date = '2022-09-01'  # Data de início da coleta dos dados\n",
    "end_date = '2024-09-01'  # Data final da coleta dos dados\n",
    "data = yf.download('AAPL', start=start_date, end=end_date)  # Baixa os dados históricos da Apple usando o yfinance\n",
    "\n",
    "# Exibir as primeiras linhas dos dados para verificação\n",
    "print(data.head())  # Exibe as primeiras 5 linhas do DataFrame com os dados baixados"
   ]
  },
  {
   "cell_type": "code",
   "execution_count": null,
   "metadata": {},
   "outputs": [],
   "source": [
    "# Plotar os dados de fechamento\n",
    "plt.figure(figsize=(14,7))  # Define o tamanho da figura do gráfico\n",
    "plt.plot(data.index, data['Close'], label='Fechamento das Ações da Apple')  # Plota os preços de fechamento das ações\n",
    "plt.title('Preço de Fechamento das Ações da Apple (AAPL)')  # Título do gráfico\n",
    "plt.xlabel('Data')  # Rótulo do eixo x\n",
    "plt.ylabel('Preço de Fechamento')  # Rótulo do eixo y\n",
    "plt.legend()  # Adiciona uma legenda ao gráfico\n",
    "plt.grid(True)  # Adiciona uma grade ao gráfico para melhor leitura\n",
    "plt.show()  # Exibe o gráfico\n"
   ]
  },
  {
   "cell_type": "code",
   "execution_count": null,
   "metadata": {},
   "outputs": [],
   "source": [
    "# Levantar características do conjunto de dados: média e desvio-padrão\n",
    "mean_close = data['Close'].mean()  # Calcula a média dos preços de fechamento\n",
    "std_close = data['Close'].std()  # Calcula o desvio padrão dos preços de fechamento\n",
    "\n",
    "# Exibir as características calculadas\n",
    "print(f'Média do Preço de Fechamento: {mean_close:.2f}')  # Imprime a média dos preços de fechamento\n",
    "print(f'Desvio Padrão do Preço de Fechamento: {std_close:.2f}')  # Imprime o desvio padrão dos preços de fechamento"
   ]
  },
  {
   "cell_type": "code",
   "execution_count": null,
   "metadata": {},
   "outputs": [],
   "source": [
    "# Simulação de Monte Carlo\n",
    "np.random.seed(42)  # Define uma semente para a geração de números aleatórios para reprodutibilidade\n",
    "num_simulations = 1000  # Define o número de simulações de Monte Carlo\n",
    "forecast_period = 30  # Define o período de previsão (30 dias)\n",
    "predicted_prices = np.zeros((num_simulations, forecast_period))  # Cria uma matriz para armazenar os preços simulados\n",
    "actual_prices = data['Close'].tail(forecast_period).values  # Obtém os últimos 30 preços de fechamento reais\n",
    "\n",
    "# Loop para gerar simulações\n",
    "for i in range(num_simulations):\n",
    "    # Gera uma série de preços simulados com base na média e no desvio padrão\n",
    "    simulated_prices = np.random.normal(loc=mean_close, scale=std_close, size=forecast_period)\n",
    "    predicted_prices[i] = simulated_prices  # Armazena os preços simulados na matriz\n",
    "\n",
    "# Função para calcular o MAPE (Erro Percentual Absoluto Médio)\n",
    "def calculate_mape(actual, forecast):\n",
    "    # Calcula o MAPE, que é a média das diferenças absolutas percentuais entre o valor real e a previsão\n",
    "    return np.mean(np.abs((actual - forecast) / actual)) * 100\n",
    "\n",
    "# Calcular o erro MAPE para cada simulação\n",
    "errors = np.zeros(num_simulations)  # Cria um vetor para armazenar os erros MAPE de cada simulação\n",
    "for i in range(num_simulations):\n",
    "    errors[i] = calculate_mape(actual_prices, predicted_prices[i])  # Calcula o MAPE e armazena no vetor de erros\n",
    "\n",
    "# Exibir o MAPE médio das simulações\n",
    "mean_mape = np.mean(errors)  # Calcula a média dos erros MAPE das simulações\n",
    "print(f'MAPE Médio das Simulações de Monte Carlo: {mean_mape:.2f}%')  # Imprime o MAPE médio"
   ]
  },
  {
   "cell_type": "code",
   "execution_count": null,
   "metadata": {},
   "outputs": [],
   "source": [
    "\n",
    "# Plotar a distribuição dos erros MAPE\n",
    "plt.figure(figsize=(14,7))  # Define o tamanho da figura do gráfico\n",
    "plt.hist(errors, bins=30, edgecolor='k', alpha=0.7)  # Plota o histograma dos erros MAPE\n",
    "plt.title('Distribuição dos Erros MAPE das Simulações de Monte Carlo')  # Título do gráfico\n",
    "plt.xlabel('Erro MAPE (%)')  # Rótulo do eixo x\n",
    "plt.ylabel('Frequência')  # Rótulo do eixo y\n",
    "plt.grid(True)  # Adiciona uma grade ao gráfico\n",
    "plt.show()  # Exibe o gráfico"
   ]
  }
 ],
 "metadata": {
  "kernelspec": {
   "display_name": "Python 3",
   "language": "python",
   "name": "python3"
  },
  "language_info": {
   "codemirror_mode": {
    "name": "ipython",
    "version": 3
   },
   "file_extension": ".py",
   "mimetype": "text/x-python",
   "name": "python",
   "nbconvert_exporter": "python",
   "pygments_lexer": "ipython3",
   "version": "3.12.3"
  }
 },
 "nbformat": 4,
 "nbformat_minor": 2
}
